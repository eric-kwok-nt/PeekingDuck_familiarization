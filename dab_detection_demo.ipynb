{
 "cells": [
  {
   "cell_type": "markdown",
   "metadata": {},
   "source": [
    "# Dab Detection Live Demo\n",
    "## 1. Dab detection using live feed \n",
    "### 1.1 HRNet in conjunction with YOLOv4\n",
    "Model configuration\n",
    "```yaml\n",
    "- model.yolo:\n",
    "    model_type: \"v4\"            \n",
    "    num_classes: 1\n",
    "    detect_ids: [0]\n",
    "    yolo_iou_threshold: 0.5\n",
    "    yolo_score_threshold: 0.2\n",
    "\n",
    "- model.hrnet:\n",
    "    score_threshold: 0.1\n",
    "```"
   ]
  },
  {
   "cell_type": "code",
   "execution_count": 3,
   "metadata": {},
   "outputs": [],
   "source": [
    " !peekingduck run --config_path ./config/dab_live_hrnet_config.yml"
   ]
  },
  {
   "cell_type": "markdown",
   "metadata": {},
   "source": [
    " ### 1.2 PoseNet\n",
    " Model configuration\n",
    "\n",
    " ```yaml\n",
    " - model.posenet:\n",
    "    model_type: 'resnet' \n",
    "    score_threshold: 0.4\n",
    "```"
   ]
  },
  {
   "cell_type": "code",
   "execution_count": null,
   "metadata": {},
   "outputs": [],
   "source": [
    "!peekingduck run --config_path ./config/dab_live_posenet_config.yml"
   ]
  },
  {
   "cell_type": "markdown",
   "metadata": {},
   "source": [
    "## 2. Dab detection using recorded video\n",
    "```yaml\n",
    "input_dir: \"data/raw/video1.mp4\" # Input video file\n",
    "```\n",
    "### 2.1 HRNet + YOLOv4"
   ]
  },
  {
   "cell_type": "code",
   "execution_count": null,
   "metadata": {},
   "outputs": [],
   "source": [
    "!peekingduck run --config_path ./config/dab_recorded_posenet_config.yml"
   ]
  },
  {
   "cell_type": "markdown",
   "metadata": {},
   "source": [
    "### 2.2 PoseNet"
   ]
  },
  {
   "cell_type": "code",
   "execution_count": null,
   "metadata": {},
   "outputs": [],
   "source": [
    "!peekingduck run --config_path ./config/dab_recorded_hrnet_config.yml"
   ]
  }
 ],
 "metadata": {
  "interpreter": {
   "hash": "a7b1c7a3b32a6bad2e1e3c6535901fe32ba425d98ff4594b08a4675253f47fdb"
  },
  "kernelspec": {
   "display_name": "Python 3.8.12 64-bit ('peekingduck': conda)",
   "language": "python",
   "name": "python3"
  },
  "language_info": {
   "codemirror_mode": {
    "name": "ipython",
    "version": 3
   },
   "file_extension": ".py",
   "mimetype": "text/x-python",
   "name": "python",
   "nbconvert_exporter": "python",
   "pygments_lexer": "ipython3",
   "version": "3.8.12"
  },
  "orig_nbformat": 4
 },
 "nbformat": 4,
 "nbformat_minor": 2
}
