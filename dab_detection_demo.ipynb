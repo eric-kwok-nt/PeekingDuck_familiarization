{
 "cells": [
  {
   "cell_type": "markdown",
   "metadata": {},
   "source": [
    "# Dab Detection Live Demo\n",
    "## 1. Dab detection using live feed \n",
    "### 1.1 HRNet in conjunction with YOLOv4\n",
    "Model configuration\n",
    "```yaml\n",
    "- model.yolo:\n",
    "    model_type: \"v4\"            \n",
    "    num_classes: 1\n",
    "    detect_ids: [0]\n",
    "    yolo_iou_threshold: 0.5\n",
    "    yolo_score_threshold: 0.2\n",
    "\n",
    "- model.hrnet:\n",
    "    score_threshold: 0.1\n",
    "```"
   ]
  },
  {
   "cell_type": "code",
   "execution_count": 3,
   "metadata": {},
   "outputs": [
    {
     "name": "stdout",
     "output_type": "stream",
     "text": [
      "2022-01-25 17:38:03 peekingduck.declarative_loader  INFO:  Successfully loaded run_config file. \n",
      "2022-01-25 17:38:03 peekingduck.declarative_loader  INFO:  Initialising input.live node... \n",
      "2022-01-25 17:38:03 peekingduck.declarative_loader  INFO:  Config for node input.live is updated to: 'input_source': 1 \n",
      "2022-01-25 17:38:03 peekingduck.declarative_loader  INFO:  Config for node input.live is updated to: 'threading': True \n",
      "2022-01-25 17:38:03 peekingduck.pipeline.nodes.input.live  INFO:  Device resolution used: 640 by 480 \n",
      "2022-01-25 17:38:03 peekingduck.declarative_loader  INFO:  Initialising model.yolo node... \n",
      "2022-01-25 17:38:05 peekingduck.declarative_loader  INFO:  Config for node model.yolo is updated to: 'model_type': v4 \n",
      "2022-01-25 17:38:05 peekingduck.declarative_loader  INFO:  Config for node model.yolo is updated to: 'num_classes': 1 \n",
      "2022-01-25 17:38:05 peekingduck.declarative_loader  INFO:  Config for node model.yolo is updated to: 'detect_ids': [0] \n",
      "2022-01-25 17:38:05 peekingduck.declarative_loader  INFO:  Config for node model.yolo is updated to: 'yolo_iou_threshold': 0.5 \n",
      "2022-01-25 17:38:05 peekingduck.declarative_loader  INFO:  Config for node model.yolo is updated to: 'yolo_score_threshold': 0.2 \n",
      "2022-01-25 17:38:05 peekingduck.pipeline.nodes.model.yolov4.yolo_files.detector  INFO:  Yolo model loaded with following configs: \n",
      "\tModel type: v4, \n",
      "\tInput resolution: 416, \n",
      "\tIDs being detected: [0] \n",
      "\tMax Detections per class: 50, \n",
      "\tMax Total Detections: 50, \n",
      "\tIOU threshold: 0.5, \n",
      "\tScore threshold: 0.2 \n",
      "2022-01-25 17:38:08 peekingduck.declarative_loader  INFO:  Initialising model.hrnet node... \n",
      "2022-01-25 17:38:08 peekingduck.declarative_loader  INFO:  Config for node model.hrnet is updated to: 'score_threshold': 0.1 \n",
      "2022-01-25 17:38:13 peekingduck.pipeline.nodes.model.hrnetv1.hrnet_files.detector  INFO:  HRNet graph model loaded with following configs: \n",
      "\tResolution: (192, 256), \n",
      "\tScore Threshold: 0.1 \n",
      "2022-01-25 17:38:13 peekingduck.declarative_loader  INFO:  Initialising custom_nodes.dabble.dab_recognition node... \n",
      "2022-01-25 17:38:14 peekingduck.declarative_loader  INFO:  Initialising draw.bbox node... \n",
      "2022-01-25 17:38:14 peekingduck.declarative_loader  INFO:  Initialising draw.tag node... \n",
      "2022-01-25 17:38:14 peekingduck.declarative_loader  INFO:  Initialising draw.poses node... \n",
      "2022-01-25 17:38:14 peekingduck.declarative_loader  INFO:  Initialising output.screen node... \n"
     ]
    },
    {
     "name": "stderr",
     "output_type": "stream",
     "text": [
      "2022-01-25 17:38:03.903064: W tensorflow/stream_executor/platform/default/dso_loader.cc:55] Could not load dynamic library 'cudart64_101.dll'; dlerror: cudart64_101.dll not found\n",
      "2022-01-25 17:38:03.903296: I tensorflow/stream_executor/cuda/cudart_stub.cc:29] Ignore above cudart dlerror if you do not have a GPU set up on your machine.\n",
      "2022-01-25 17:38:06.808485: I tensorflow/stream_executor/platform/default/dso_loader.cc:44] Successfully opened dynamic library nvcuda.dll\n",
      "2022-01-25 17:38:06.817800: I tensorflow/core/common_runtime/gpu/gpu_device.cc:1561] Found device 0 with properties: \n",
      "pciBusID: 0000:01:00.0 name: NVIDIA GeForce RTX 3070 Laptop GPU computeCapability: 8.6\n",
      "coreClock: 1.56GHz coreCount: 40 deviceMemorySize: 8.00GiB deviceMemoryBandwidth: 417.29GiB/s\n",
      "2022-01-25 17:38:06.819000: W tensorflow/stream_executor/platform/default/dso_loader.cc:55] Could not load dynamic library 'cudart64_101.dll'; dlerror: cudart64_101.dll not found\n",
      "2022-01-25 17:38:06.819754: W tensorflow/stream_executor/platform/default/dso_loader.cc:55] Could not load dynamic library 'cublas64_10.dll'; dlerror: cublas64_10.dll not found\n",
      "2022-01-25 17:38:06.820483: W tensorflow/stream_executor/platform/default/dso_loader.cc:55] Could not load dynamic library 'cufft64_10.dll'; dlerror: cufft64_10.dll not found\n",
      "2022-01-25 17:38:06.821196: W tensorflow/stream_executor/platform/default/dso_loader.cc:55] Could not load dynamic library 'curand64_10.dll'; dlerror: curand64_10.dll not found\n",
      "2022-01-25 17:38:06.821904: W tensorflow/stream_executor/platform/default/dso_loader.cc:55] Could not load dynamic library 'cusolver64_10.dll'; dlerror: cusolver64_10.dll not found\n",
      "2022-01-25 17:38:06.822591: W tensorflow/stream_executor/platform/default/dso_loader.cc:55] Could not load dynamic library 'cusparse64_10.dll'; dlerror: cusparse64_10.dll not found\n",
      "2022-01-25 17:38:06.823283: W tensorflow/stream_executor/platform/default/dso_loader.cc:55] Could not load dynamic library 'cudnn64_7.dll'; dlerror: cudnn64_7.dll not found\n",
      "2022-01-25 17:38:06.823501: W tensorflow/core/common_runtime/gpu/gpu_device.cc:1598] Cannot dlopen some GPU libraries. Please make sure the missing libraries mentioned above are installed properly if you would like to use GPU. Follow the guide at https://www.tensorflow.org/install/gpu for how to download and setup the required libraries for your platform.\n",
      "Skipping registering GPU devices...\n",
      "2022-01-25 17:38:06.824233: I tensorflow/core/platform/cpu_feature_guard.cc:143] Your CPU supports instructions that this TensorFlow binary was not compiled to use: AVX2\n",
      "2022-01-25 17:38:06.831124: I tensorflow/compiler/xla/service/service.cc:168] XLA service 0x1eb70192f80 initialized for platform Host (this does not guarantee that XLA will be used). Devices:\n",
      "2022-01-25 17:38:06.831395: I tensorflow/compiler/xla/service/service.cc:176]   StreamExecutor device (0): Host, Default Version\n",
      "2022-01-25 17:38:06.831659: I tensorflow/core/common_runtime/gpu/gpu_device.cc:1102] Device interconnect StreamExecutor with strength 1 edge matrix:\n",
      "2022-01-25 17:38:06.831834: I tensorflow/core/common_runtime/gpu/gpu_device.cc:1108]      \n",
      "c:\\Users\\KNT77\\OneDrive\\AISG\\Technical_work\\CV Hub\\Code\\peekingduck_familiarization\\src\\custom_nodes\\dabble\\dab_recognition.py:145: RuntimeWarning: divide by zero encountered in double_scalars\n",
      "  dist = min([item_wrist_dist/lower_arm_len, item_elbow_dist/lower_arm_len])\n"
     ]
    }
   ],
   "source": [
    " !peekingduck run --config_path ./config/dab_live_hrnet_config.yml"
   ]
  },
  {
   "cell_type": "markdown",
   "metadata": {},
   "source": [
    " ### 1.2 PoseNet\n",
    " Model configuration\n",
    "\n",
    " ```yaml\n",
    " - model.posenet:\n",
    "    model_type: 'resnet' \n",
    "    score_threshold: 0.4\n",
    "```"
   ]
  },
  {
   "cell_type": "code",
   "execution_count": null,
   "metadata": {},
   "outputs": [],
   "source": [
    "!peekingduck run --config_path ./config/dab_live_posenet_config.yml"
   ]
  },
  {
   "cell_type": "markdown",
   "metadata": {},
   "source": [
    "## 2. Dab detection using recorded video\n",
    "```yaml\n",
    "input_dir: \"data/raw/video1.mp4\" # Input video file\n",
    "```\n",
    "### 2.1 HRNet + YOLOv4"
   ]
  },
  {
   "cell_type": "code",
   "execution_count": null,
   "metadata": {},
   "outputs": [],
   "source": [
    "!peekingduck run --config_path ./config/dab_recorded_posenet_config.yml"
   ]
  },
  {
   "cell_type": "markdown",
   "metadata": {},
   "source": [
    "### 2.2 PoseNet"
   ]
  },
  {
   "cell_type": "code",
   "execution_count": null,
   "metadata": {},
   "outputs": [],
   "source": [
    "!peekingduck run --config_path ./config/dab_recorded_hrnet_config.yml"
   ]
  }
 ],
 "metadata": {
  "interpreter": {
   "hash": "a7b1c7a3b32a6bad2e1e3c6535901fe32ba425d98ff4594b08a4675253f47fdb"
  },
  "kernelspec": {
   "display_name": "Python 3.8.12 64-bit ('peekingduck': conda)",
   "language": "python",
   "name": "python3"
  },
  "language_info": {
   "codemirror_mode": {
    "name": "ipython",
    "version": 3
   },
   "file_extension": ".py",
   "mimetype": "text/x-python",
   "name": "python",
   "nbconvert_exporter": "python",
   "pygments_lexer": "ipython3",
   "version": "3.8.12"
  },
  "orig_nbformat": 4
 },
 "nbformat": 4,
 "nbformat_minor": 2
}
